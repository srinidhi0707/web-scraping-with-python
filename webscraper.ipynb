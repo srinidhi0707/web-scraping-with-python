{
 "cells": [
  {
   "cell_type": "code",
   "execution_count": 11,
   "metadata": {},
   "outputs": [
    {
     "name": "stdout",
     "output_type": "stream",
     "text": [
      "24\n",
      "products length  24\n",
      "prices length  24\n",
      "sales length  1\n",
      "desc length  24\n"
     ]
    }
   ],
   "source": [
    "from selenium import webdriver\n",
    "from bs4 import BeautifulSoup\n",
    "import pandas as pd\n",
    "import time\n",
    "import urllib.request\n",
    "\n",
    "options = webdriver.ChromeOptions()\n",
    "options.add_argument('--headless')\n",
    "\n",
    "#Download chrome selenium webdriver and provide path to executable\n",
    "driver = webdriver.Chrome(r'C:\\Users\\senth\\Downloads\\chromedriver_win32\\chromedriver.exe', options=options)\n",
    "\n",
    "products = []\n",
    "variants = []\n",
    "prices = []\n",
    "images = []\n",
    "desc = []\n",
    "count = 0\n",
    "get_count = 0\n",
    "\n",
    "#Link to start grabbing items from.\n",
    "driver.get('https://www.flipkart.com/mobiles/pr?sid=tyy%2C4io&marketplace=FLIPKART&p%5B%5D=facets.type%255B%255D%3DSmartphones')\n",
    "driver.implicitly_wait(10)\n",
    "\n",
    "while True:\n",
    "    time.sleep(1)\n",
    "    #Workaround for lazy loaded images\n",
    "    elements = driver.find_elements_by_class_name('_2kHMtA')\n",
    "    for data in elements:\n",
    "        coor = data.location_once_scrolled_into_view\n",
    "        driver.execute_script('window.scrollTo({}, {});'.format(coor['x'], coor['y']))\n",
    "    content = driver.page_source\n",
    "    soup = BeautifulSoup(content, 'html.parser')\n",
    "\n",
    "    #Common classname that holds the data\n",
    "    for a in soup.find_all('div', attrs={'class': '_2kHMtA'}):\n",
    "        driver.implicitly_wait(10)\n",
    "        name = a.find('div', attrs={'class': '_4rR01T'})\n",
    "        price = a.find('div', attrs={'class': '_3I9_wc _27UcVY'})\n",
    "        sale = a.find('div', attrs={'class': '_30jeq3 _1_WHN1'})\n",
    "#         image = a.find('div', attrs={'class': '_3BTv9X'}).find('img').get('src')\n",
    "        des = a.find('ul', attrs={'class': '_1xgFaf'})\n",
    "        try:\n",
    "            products.append(name.text)\n",
    "            variants.append(name.text.split(', ')[1].split(')')[0])\n",
    "        except:\n",
    "            products.append(\"\")\n",
    "        try:\n",
    "            test = ''.join(i for i in price.text if i.isdigit())\n",
    "            prices.append(test)\n",
    "        except:\n",
    "            test = ''.join(i for i in sale.text if i.isdigit())\n",
    "            prices.append(test)\n",
    "#         try:\n",
    "#             split_data = name.text.split(' (')\n",
    "#             slug = split_data[0] + '_' + split_data[1].split(',')[0]\n",
    "#             urllib.request.urlretrieve(image, f\"images\\{slug}.jpg\")\n",
    "#             images.append(slug)\n",
    "#         except:\n",
    "#             #If retrieved item was not lazy loaded, delete current entry and continue\n",
    "#             del prices[-1]\n",
    "#             del products[-1]\n",
    "#             del variants[-1]\n",
    "#             continue\n",
    "        try:\n",
    "            desc.append(des.get_text('\\n', strip=True))\n",
    "        except:\n",
    "            desc.append(\"\")\n",
    "    print(len(products))\n",
    "    #Scrolling to top of page\n",
    "    driver.execute_script(\"window.scrollTo(0, 0);\")\n",
    "\n",
    "    #Finding the next page button\n",
    "    nxt_btn = driver.find_elements_by_class_name('_1LKTO3')\n",
    "    if len(products) > 5:\n",
    "        break\n",
    "    if count == 0:\n",
    "        count += 1\n",
    "        nxt_btn[0].click()\n",
    "        continue\n",
    "    elif len(nxt_btn) > 1:\n",
    "        count += 1\n",
    "        nxt_btn[1].click()\n",
    "        continue\n",
    "    else:\n",
    "        break\n",
    "print(\"products length \" , len(products))\n",
    "print(\"prices length \" , len(prices))\n",
    "print(\"sales length \" , len(sale))\n",
    "print(\"desc length \" , len(desc))\n",
    "\n",
    "# df = pd.DataFrame({'Product Name': products, 'Variants': variants, 'Price': prices, 'Description': desc})\n",
    "# df.to_csv('new.csv', index=False, encoding='utf-8')\n"
   ]
  },
  {
   "cell_type": "code",
   "execution_count": 7,
   "metadata": {},
   "outputs": [
    {
     "data": {
      "text/plain": [
       "<div class=\"_30jeq3 _1_WHN1\">₹11,499</div>"
      ]
     },
     "execution_count": 7,
     "metadata": {},
     "output_type": "execute_result"
    }
   ],
   "source": [
    "sale"
   ]
  },
  {
   "cell_type": "code",
   "execution_count": null,
   "metadata": {},
   "outputs": [],
   "source": []
  },
  {
   "cell_type": "code",
   "execution_count": null,
   "metadata": {},
   "outputs": [],
   "source": []
  }
 ],
 "metadata": {
  "kernelspec": {
   "display_name": "Python 3",
   "language": "python",
   "name": "python3"
  },
  "language_info": {
   "codemirror_mode": {
    "name": "ipython",
    "version": 3
   },
   "file_extension": ".py",
   "mimetype": "text/x-python",
   "name": "python",
   "nbconvert_exporter": "python",
   "pygments_lexer": "ipython3",
   "version": "3.8.5"
  }
 },
 "nbformat": 4,
 "nbformat_minor": 4
}
